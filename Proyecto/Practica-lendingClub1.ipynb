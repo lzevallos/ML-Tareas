{
 "cells": [
  {
   "cell_type": "markdown",
   "metadata": {},
   "source": [
    "# Pontificia Universidad Católica del Perú\n",
    "# Ideentificación del perfil de usuarios con riesgo de incumplimiento crediticio en Lending Club\n",
    "\n",
    "## Curso: Aprendizaje Automático: Teoria y Aplicaciones\n",
    "\n",
    "### Integrantes: \n",
    "#### ● Lara Ávila César [https://github.com/C-Lara/ML-Tareas/tree/master/Proyecto](https://github.com/C-Lara/ML-Tareas/tree/master/Proyecto)\n",
    "● Zevallos Sulca Luis.     ● Salazar Campos Juan Orlando.     ● Salazar Torres Helen\n",
    "\n",
    "#### ●  Caso: \n",
    "\n",
    "[Lending Club](https://www.lendingclub.com/), que es una compañía de préstamos entre usuarios, que combina prestatarios con inversores a través de una plataforma en línea  con sede en los Estados Unidos, en la cual los inversionistas proporcionan fondos para potenciales prestatarios obteniendo ganancias dependiendo del riesgo que asumen (puntaje de crédito de los prestatarios). Los prestatarios reciben el monto total del préstamo emitido menos un monto por comisión del servicio, que se paga a la empresa. Los inversionistas compran notas respaldadas por los préstamos personales y pagan a Lending Club una tarifa por el servicio. La compañía comparte información sobre todos los préstamos emitidos a través de su plataforma durante ciertos períodos de tiempos.\n",
    "\n",
    "El Lending Club trabaja de la siguiente manera:\n",
    "\n",
    "* Los prestatarios solicitan préstamos.\n",
    "* Los inversores abren una cuenta\n",
    "* Los prestatarios reciben fondos\n",
    "* Los inversores crean una cartera de clientes\n",
    "* Los prestatarios reembolsan automáticamente sus préstamos\n",
    "* Los inversores ganan y reinvierten."
   ]
  },
  {
   "cell_type": "markdown",
   "metadata": {},
   "source": [
    "### Preprocesamiento de datos\n"
   ]
  },
  {
   "cell_type": "code",
   "execution_count": 1,
   "metadata": {},
   "outputs": [],
   "source": [
    "import pandas as pd\n",
    "import numpy as np\n",
    "from matplotlib import pyplot as plt\n",
    "import seaborn as sns\n",
    "%matplotlib inline"
   ]
  },
  {
   "cell_type": "markdown",
   "metadata": {},
   "source": [
    "####  Leyendo los datos desde un archivo"
   ]
  },
  {
   "cell_type": "code",
   "execution_count": 2,
   "metadata": {},
   "outputs": [],
   "source": [
    "datos = pd.read_csv(\"loan.csv\", low_memory=False)"
   ]
  },
  {
   "cell_type": "code",
   "execution_count": 3,
   "metadata": {},
   "outputs": [],
   "source": [
    "# df_loan.head()\n",
    "# df_loan.info()"
   ]
  },
  {
   "cell_type": "markdown",
   "metadata": {},
   "source": [
    "#### Removemos filas y columnas con muchos NA"
   ]
  },
  {
   "cell_type": "markdown",
   "metadata": {},
   "source": [
    "* Removemos columnas cuyo número de NA es mayor que el 70%\n",
    "* Removemos las filas cuyo número de  NA es mayor que 30\n"
   ]
  },
  {
   "cell_type": "code",
   "execution_count": 4,
   "metadata": {},
   "outputs": [
    {
     "data": {
      "text/plain": [
       "dti_joint                      0.999426\n",
       "verification_status_joint      0.999424\n",
       "annual_inc_joint               0.999424\n",
       "il_util                        0.979020\n",
       "mths_since_rcnt_il             0.976549\n",
       "all_util                       0.975916\n",
       "max_bal_bc                     0.975916\n",
       "open_rv_24m                    0.975916\n",
       "open_rv_12m                    0.975916\n",
       "total_cu_tl                    0.975916\n",
       "total_bal_il                   0.975916\n",
       "open_il_24m                    0.975916\n",
       "open_il_12m                    0.975916\n",
       "open_il_6m                     0.975916\n",
       "open_acc_6m                    0.975916\n",
       "inq_fi                         0.975916\n",
       "inq_last_12m                   0.975916\n",
       "desc                           0.857977\n",
       "mths_since_last_record         0.845553\n",
       "mths_since_last_major_derog    0.750160\n",
       "dtype: float64"
      ]
     },
     "execution_count": 4,
     "metadata": {},
     "output_type": "execute_result"
    }
   ],
   "source": [
    "razon_de_nulos = datos.isnull().sum(axis = 0).sort_values(ascending = False)/float((len(datos)))\n",
    "razon_de_nulos[razon_de_nulos > 0.7]"
   ]
  },
  {
   "cell_type": "code",
   "execution_count": 5,
   "metadata": {},
   "outputs": [],
   "source": [
    "datos.drop(razon_de_nulos[razon_de_nulos>0.7].index,axis = 1,inplace=True)"
   ]
  },
  {
   "cell_type": "code",
   "execution_count": 6,
   "metadata": {},
   "outputs": [],
   "source": [
    "datos.dropna(axis = 0,thresh=30,inplace = True)"
   ]
  },
  {
   "cell_type": "markdown",
   "metadata": {},
   "source": [
    "#### Encontramos  las columnas que tienen muy pocos/demasiados datos únicos\n",
    "\n",
    "Inspeccionamos estas columnas para decidir si eliminarlas o no."
   ]
  },
  {
   "cell_type": "code",
   "execution_count": 7,
   "metadata": {},
   "outputs": [],
   "source": [
    "tasa_unica = datos.apply(lambda x: len(pd.unique(x)),axis = 0).sort_values(ascending = False)"
   ]
  },
  {
   "cell_type": "code",
   "execution_count": 8,
   "metadata": {},
   "outputs": [
    {
     "data": {
      "text/plain": [
       "id                            887379\n",
       "url                           887379\n",
       "member_id                     887379\n",
       "total_pymnt                   506726\n",
       "total_pymnt_inv               506616\n",
       "tot_cur_bal                   327343\n",
       "total_rec_int                 324635\n",
       "emp_title                     299272\n",
       "out_prncp_inv                 266244\n",
       "total_rec_prncp               260227\n",
       "out_prncp                     248332\n",
       "last_pymnt_amnt               232451\n",
       "revol_bal                      73740\n",
       "installment                    68711\n",
       "title                          63145\n",
       "annual_inc                     49385\n",
       "recoveries                     23055\n",
       "total_rev_hi_lim               21252\n",
       "collection_recovery_fee        20708\n",
       "tot_coll_amt                   10326\n",
       "funded_amnt_inv                 9856\n",
       "total_rec_late_fee              6181\n",
       "dti                             4086\n",
       "funded_amnt                     1372\n",
       "loan_amnt                       1372\n",
       "revol_util                      1357\n",
       "zip_code                         935\n",
       "earliest_cr_line                 698\n",
       "int_rate                         542\n",
       "mths_since_last_delinq           156\n",
       "total_acc                        136\n",
       "last_credit_pull_d               104\n",
       "issue_d                          103\n",
       "next_pymnt_d                     101\n",
       "last_pymnt_d                      99\n",
       "open_acc                          78\n",
       "addr_state                        51\n",
       "sub_grade                         35\n",
       "pub_rec                           33\n",
       "delinq_2yrs                       30\n",
       "inq_last_6mths                    29\n",
       "purpose                           14\n",
       "collections_12_mths_ex_med        13\n",
       "emp_length                        12\n",
       "loan_status                       10\n",
       "acc_now_delinq                     9\n",
       "grade                              7\n",
       "home_ownership                     6\n",
       "verification_status                3\n",
       "application_type                   2\n",
       "term                               2\n",
       "initial_list_status                2\n",
       "pymnt_plan                         2\n",
       "policy_code                        1\n",
       "dtype: int64"
      ]
     },
     "execution_count": 8,
     "metadata": {},
     "output_type": "execute_result"
    }
   ],
   "source": [
    "tasa_unica"
   ]
  },
  {
   "cell_type": "code",
   "execution_count": 9,
   "metadata": {},
   "outputs": [
    {
     "name": "stdout",
     "output_type": "stream",
     "text": [
      "n    887369\n",
      "y        10\n",
      "Name: pymnt_plan, dtype: int64 \n",
      " n    0.999989\n",
      "y    0.000011\n",
      "Name: pymnt_plan, dtype: float64\n",
      "f    456848\n",
      "w    430531\n",
      "Name: initial_list_status, dtype: int64 \n",
      " f    0.514829\n",
      "w    0.485171\n",
      "Name: initial_list_status, dtype: float64\n",
      "INDIVIDUAL    886868\n",
      "JOINT            511\n",
      "Name: application_type, dtype: int64 \n",
      " INDIVIDUAL    0.999424\n",
      "JOINT         0.000576\n",
      "Name: application_type, dtype: float64\n",
      "0.0     883236\n",
      "1.0       3866\n",
      "2.0        208\n",
      "3.0         28\n",
      "4.0          7\n",
      "5.0          3\n",
      "6.0          1\n",
      "14.0         1\n",
      "Name: acc_now_delinq, dtype: int64 \n",
      " 0.0     0.995331\n",
      "1.0     0.004357\n",
      "2.0     0.000234\n",
      "3.0     0.000032\n",
      "4.0     0.000008\n",
      "5.0     0.000003\n",
      "6.0     0.000001\n",
      "14.0    0.000001\n",
      "Name: acc_now_delinq, dtype: float64\n"
     ]
    }
   ],
   "source": [
    "# Imprimimos las columnas que tienen pocos elementos\n",
    "def analisis_columna(x,dataframe = datos): \n",
    "    print(dataframe[x].value_counts(),\"\\n\",dataframe[x].value_counts()/len(dataframe[x]))\n",
    "\n",
    "analisis_columna(\"pymnt_plan\")\n",
    "analisis_columna(\"initial_list_status\")\n",
    "analisis_columna(\"application_type\")\n",
    "analisis_columna(\"acc_now_delinq\")"
   ]
  },
  {
   "cell_type": "markdown",
   "metadata": {},
   "source": [
    "#### Eliminamos algunas columnas\n",
    "\n",
    "* Necesitamos eliminar id, url, member_id porque estos tres son 100% únicos\n",
    "* policy_code solo tiene un valor\n",
    "* payment_plan, application_type, acc_now_delinq son altamente desequilibrados (más del 90% son de un solo valor)\n",
    "* mp_title, zip_code, title  no son tan importantes para analizar."
   ]
  },
  {
   "cell_type": "code",
   "execution_count": 10,
   "metadata": {},
   "outputs": [],
   "source": [
    "elimina_columnas = [\"policy_code\", \"pymnt_plan\", \"url\", \"id\", \"member_id\", \"application_type\", \"acc_now_delinq\", \"emp_title\",\n",
    "               \"zip_code\", \"title\"]\n",
    "datos.drop(elimina_columnas, axis=1, inplace=True)"
   ]
  },
  {
   "cell_type": "markdown",
   "metadata": {},
   "source": [
    "#####  Cambiamos  el formato de algunas columnas\n",
    "\n",
    "Cambiamos  el valor de algunas columnas a número para un análisis posterior."
   ]
  },
  {
   "cell_type": "code",
   "execution_count": 11,
   "metadata": {},
   "outputs": [],
   "source": [
    "datos[\"term\"] = datos[\"term\"].str.split(\" \").str[1]"
   ]
  },
  {
   "cell_type": "code",
   "execution_count": 12,
   "metadata": {},
   "outputs": [],
   "source": [
    "datos[\"emp_length\"] = datos[\"emp_length\"].str.extract(\"(\\d+)\", expand =False).map(float)\n",
    "datos[\"emp_length\"] = datos[\"emp_length\"].fillna(datos.emp_length.median())\n"
   ]
  },
  {
   "cell_type": "code",
   "execution_count": 13,
   "metadata": {},
   "outputs": [],
   "source": [
    "# transformamos datos de tiempo a periodos \n",
    "columna_fechas = datos.dtypes[datos.dtypes == \"datetime64[ns]\"].index\n",
    "for d in columna_fechas:\n",
    "    datos[d] = datos[d].dt.to_period[\"M\"]"
   ]
  },
  {
   "cell_type": "markdown",
   "metadata": {},
   "source": [
    "#### Transformación de  algunas columnas que son muy sesgadas\n",
    "\n",
    "Más de la mitad de las filas en estas columnas están en un valor, por lo que las transformamos en variables categóricas.\n",
    " \n",
    " * delinq_2yrs: 80% son 0\n",
    " * inq_last_6mths:56% son 0\n",
    " * pub_rec:84% son 0\n"
   ]
  },
  {
   "cell_type": "code",
   "execution_count": 14,
   "metadata": {},
   "outputs": [
    {
     "name": "stdout",
     "output_type": "stream",
     "text": [
      "0.0     716961\n",
      "1.0     113224\n",
      "2.0      33551\n",
      "3.0      11977\n",
      "4.0       5327\n",
      "5.0       2711\n",
      "6.0       1471\n",
      "7.0        784\n",
      "8.0        461\n",
      "9.0        284\n",
      "10.0       192\n",
      "11.0       121\n",
      "12.0        89\n",
      "13.0        64\n",
      "14.0        45\n",
      "15.0        28\n",
      "16.0        17\n",
      "18.0        11\n",
      "17.0        10\n",
      "19.0         8\n",
      "22.0         3\n",
      "21.0         2\n",
      "26.0         2\n",
      "20.0         2\n",
      "30.0         1\n",
      "39.0         1\n",
      "27.0         1\n",
      "29.0         1\n",
      "24.0         1\n",
      "Name: delinq_2yrs, dtype: int64 \n",
      " 0.0     0.807954\n",
      "1.0     0.127594\n",
      "2.0     0.037809\n",
      "3.0     0.013497\n",
      "4.0     0.006003\n",
      "5.0     0.003055\n",
      "6.0     0.001658\n",
      "7.0     0.000884\n",
      "8.0     0.000520\n",
      "9.0     0.000320\n",
      "10.0    0.000216\n",
      "11.0    0.000136\n",
      "12.0    0.000100\n",
      "13.0    0.000072\n",
      "14.0    0.000051\n",
      "15.0    0.000032\n",
      "16.0    0.000019\n",
      "18.0    0.000012\n",
      "17.0    0.000011\n",
      "19.0    0.000009\n",
      "22.0    0.000003\n",
      "21.0    0.000002\n",
      "26.0    0.000002\n",
      "20.0    0.000002\n",
      "30.0    0.000001\n",
      "39.0    0.000001\n",
      "27.0    0.000001\n",
      "29.0    0.000001\n",
      "24.0    0.000001\n",
      "Name: delinq_2yrs, dtype: float64\n",
      "0.0     497905\n",
      "1.0     241494\n",
      "2.0      94117\n",
      "3.0      37398\n",
      "4.0      10758\n",
      "5.0       3985\n",
      "6.0       1231\n",
      "7.0        195\n",
      "8.0        122\n",
      "9.0         50\n",
      "10.0        24\n",
      "11.0        15\n",
      "12.0        15\n",
      "15.0         9\n",
      "14.0         6\n",
      "13.0         6\n",
      "18.0         4\n",
      "16.0         3\n",
      "17.0         2\n",
      "19.0         2\n",
      "24.0         2\n",
      "31.0         1\n",
      "32.0         1\n",
      "25.0         1\n",
      "28.0         1\n",
      "20.0         1\n",
      "33.0         1\n",
      "27.0         1\n",
      "Name: inq_last_6mths, dtype: int64 \n",
      " 0.0     0.561096\n",
      "1.0     0.272143\n",
      "2.0     0.106062\n",
      "3.0     0.042144\n",
      "4.0     0.012123\n",
      "5.0     0.004491\n",
      "6.0     0.001387\n",
      "7.0     0.000220\n",
      "8.0     0.000137\n",
      "9.0     0.000056\n",
      "10.0    0.000027\n",
      "11.0    0.000017\n",
      "12.0    0.000017\n",
      "15.0    0.000010\n",
      "14.0    0.000007\n",
      "13.0    0.000007\n",
      "18.0    0.000005\n",
      "16.0    0.000003\n",
      "17.0    0.000002\n",
      "19.0    0.000002\n",
      "24.0    0.000002\n",
      "31.0    0.000001\n",
      "32.0    0.000001\n",
      "25.0    0.000001\n",
      "28.0    0.000001\n",
      "20.0    0.000001\n",
      "33.0    0.000001\n",
      "27.0    0.000001\n",
      "Name: inq_last_6mths, dtype: float64\n",
      "0.0     751572\n",
      "1.0     113266\n",
      "2.0      14854\n",
      "3.0       4487\n",
      "4.0       1564\n",
      "5.0        757\n",
      "6.0        385\n",
      "7.0        170\n",
      "8.0        113\n",
      "9.0         50\n",
      "10.0        42\n",
      "11.0        23\n",
      "12.0        16\n",
      "13.0        12\n",
      "15.0         6\n",
      "18.0         5\n",
      "16.0         5\n",
      "21.0         4\n",
      "17.0         3\n",
      "14.0         2\n",
      "49.0         2\n",
      "19.0         2\n",
      "40.0         1\n",
      "86.0         1\n",
      "20.0         1\n",
      "23.0         1\n",
      "63.0         1\n",
      "22.0         1\n",
      "28.0         1\n",
      "34.0         1\n",
      "26.0         1\n",
      "54.0         1\n",
      "Name: pub_rec, dtype: int64 \n",
      " 0.0     0.846957\n",
      "1.0     0.127641\n",
      "2.0     0.016739\n",
      "3.0     0.005056\n",
      "4.0     0.001762\n",
      "5.0     0.000853\n",
      "6.0     0.000434\n",
      "7.0     0.000192\n",
      "8.0     0.000127\n",
      "9.0     0.000056\n",
      "10.0    0.000047\n",
      "11.0    0.000026\n",
      "12.0    0.000018\n",
      "13.0    0.000014\n",
      "15.0    0.000007\n",
      "18.0    0.000006\n",
      "16.0    0.000006\n",
      "21.0    0.000005\n",
      "17.0    0.000003\n",
      "14.0    0.000002\n",
      "49.0    0.000002\n",
      "19.0    0.000002\n",
      "40.0    0.000001\n",
      "86.0    0.000001\n",
      "20.0    0.000001\n",
      "23.0    0.000001\n",
      "63.0    0.000001\n",
      "22.0    0.000001\n",
      "28.0    0.000001\n",
      "34.0    0.000001\n",
      "26.0    0.000001\n",
      "54.0    0.000001\n",
      "Name: pub_rec, dtype: float64\n"
     ]
    }
   ],
   "source": [
    "analisis_columna(\"delinq_2yrs\")\n",
    "analisis_columna(\"inq_last_6mths\")\n",
    "analisis_columna(\"pub_rec\")"
   ]
  },
  {
   "cell_type": "code",
   "execution_count": 15,
   "metadata": {},
   "outputs": [],
   "source": [
    "# 80% son 0\n",
    "datos[\"delinq_2yrs_cat\"] = 0\n",
    "datos.loc[datos[\"delinq_2yrs\"] > 0, \"delinq_2yrs_cat\"] = 1"
   ]
  },
  {
   "cell_type": "code",
   "execution_count": 16,
   "metadata": {},
   "outputs": [],
   "source": [
    "# 56% son 0\n",
    "datos[\"inq_last_6mths_cat\"] = 0\n",
    "datos.loc[datos[\"inq_last_6mths\"]>0 ,\"inq_last_6mths_cat\"] = 1"
   ]
  },
  {
   "cell_type": "code",
   "execution_count": 17,
   "metadata": {},
   "outputs": [],
   "source": [
    "# 84% son 0\n",
    "datos[\"pub_rec_cat\"] = 0\n",
    "datos.loc[datos[\"pub_rec\"]>0,\"pub_rec_cat\"] = 1"
   ]
  },
  {
   "cell_type": "markdown",
   "metadata": {},
   "source": [
    "####  Columnas nuevas basadas en el cálculo de variables antiguas\n",
    "\n",
    "* funded_amnt es la cantidad total  comprometida con ese préstamo en ese momento.\n",
    "* funded_amnt_inv es la cantidad total comprometida por los inversores para ese préstamo en ese momento.\n",
    "\n",
    "Cuando no son iguales (el inversor paga menos de lo esperado), marcamos como menos.\n",
    "\n",
    "* open_acc es la cantidad de líneas de crédito abiertas en el archivo de crédito del prestatario.\n",
    "* total_acc es el número total de líneas de crédito actualmente en el archivo de crédito del prestatario\n",
    "* acc_ratio significa cuántos préstamos tiene el solicitante ahora."
   ]
  },
  {
   "cell_type": "code",
   "execution_count": 18,
   "metadata": {},
   "outputs": [],
   "source": [
    "datos['acc_ratio'] = datos.open_acc / datos.total_acc"
   ]
  },
  {
   "cell_type": "code",
   "execution_count": 19,
   "metadata": {},
   "outputs": [],
   "source": [
    "datos['amt_diferencia'] = 'igual'\n",
    "datos.loc[(datos['funded_amnt'] - datos['funded_amnt_inv']) > 0,'amt_diferencia'] = 'menos'"
   ]
  },
  {
   "cell_type": "code",
   "execution_count": 20,
   "metadata": {},
   "outputs": [],
   "source": [
    "caracteristicas = ['loan_amnt', 'amt_diferencia', 'term', \n",
    "            'installment', 'grade','emp_length',\n",
    "            'home_ownership', 'annual_inc','verification_status',\n",
    "            'purpose', 'dti', 'delinq_2yrs_cat', 'inq_last_6mths_cat', \n",
    "            'open_acc', 'pub_rec', 'pub_rec_cat', 'acc_ratio', 'initial_list_status',  \n",
    "            'loan_status'\n",
    "           ]"
   ]
  },
  {
   "cell_type": "markdown",
   "metadata": {},
   "source": [
    "#### Transformamos loan_status\n"
   ]
  },
  {
   "cell_type": "code",
   "execution_count": 21,
   "metadata": {},
   "outputs": [
    {
     "data": {
      "text/plain": [
       "loan_status\n",
       "Current                                                67.815330\n",
       "Fully Paid                                             23.408600\n",
       "Charged Off                                             5.099061\n",
       "Late (31-120 days)                                      1.306206\n",
       "Issued                                                  0.953369\n",
       "In Grace Period                                         0.704659\n",
       "Late (16-30 days)                                       0.265614\n",
       "Does not meet the credit policy. Status:Fully Paid      0.224031\n",
       "Default                                                 0.137371\n",
       "Does not meet the credit policy. Status:Charged Off     0.085758\n",
       "dtype: float64"
      ]
     },
     "execution_count": 21,
     "metadata": {},
     "output_type": "execute_result"
    }
   ],
   "source": [
    "datos.groupby(\"loan_status\").size().sort_values(ascending=False)/len(datos)*100"
   ]
  },
  {
   "cell_type": "code",
   "execution_count": 22,
   "metadata": {},
   "outputs": [],
   "source": [
    "X_l = datos.loc[datos.loan_status != \"Current\",caracteristicas] "
   ]
  },
  {
   "cell_type": "code",
   "execution_count": 23,
   "metadata": {},
   "outputs": [],
   "source": [
    "mascara_N = (X_l.loan_status == 'Charged Off')\n",
    "X_l['objetivo'] = 0\n",
    "X_l.loc[mascara_N,'objetivo'] = 1"
   ]
  },
  {
   "cell_type": "markdown",
   "metadata": {},
   "source": [
    "#### Codificación One-Hot en características categóricas"
   ]
  },
  {
   "cell_type": "code",
   "execution_count": 24,
   "metadata": {},
   "outputs": [],
   "source": [
    "caracteristicas_categoricas = ['term','amt_diferencia', 'grade', 'home_ownership', 'verification_status', 'purpose', 'delinq_2yrs_cat', \n",
    "                'inq_last_6mths_cat', 'pub_rec_cat', 'initial_list_status',]\n",
    "X_l.dropna(axis=0, how = 'any', inplace = True)"
   ]
  },
  {
   "cell_type": "code",
   "execution_count": 25,
   "metadata": {},
   "outputs": [],
   "source": [
    "X = pd.get_dummies(X_l[X_l.columns[:-2]], columns=caracteristicas_categoricas).astype(float)"
   ]
  },
  {
   "cell_type": "markdown",
   "metadata": {},
   "source": [
    "* Definimos como objetivo y\n",
    "* Train test split\n",
    "* Estandarizamos X_train con fit_transform, X_test con transform.\n"
   ]
  },
  {
   "cell_type": "code",
   "execution_count": 26,
   "metadata": {},
   "outputs": [],
   "source": [
    "y = X_l['objetivo']"
   ]
  },
  {
   "cell_type": "code",
   "execution_count": 27,
   "metadata": {},
   "outputs": [],
   "source": [
    "from sklearn.model_selection import train_test_split\n",
    "\n",
    "X_train_raw, X_test_raw, y_train, y_test = train_test_split(X, y.values, test_size=0.3, random_state=0)"
   ]
  },
  {
   "cell_type": "code",
   "execution_count": 28,
   "metadata": {},
   "outputs": [],
   "source": [
    "from sklearn.preprocessing import StandardScaler\n",
    "\n",
    "stdsc = StandardScaler()\n",
    "X_train = stdsc.fit_transform(X_train_raw)\n",
    "X_test = stdsc.transform(X_test_raw)"
   ]
  },
  {
   "cell_type": "markdown",
   "metadata": {},
   "source": [
    "Con este   paso, tenemos X_train, X_test, y_train, y_test para seguir con los siguientes pasos."
   ]
  },
  {
   "cell_type": "markdown",
   "metadata": {},
   "source": [
    "### Entrenamiento, prueba y evaluación de modelos"
   ]
  },
  {
   "cell_type": "markdown",
   "metadata": {},
   "source": [
    "#### Clasificadores de Scikit-learn"
   ]
  },
  {
   "cell_type": "code",
   "execution_count": 29,
   "metadata": {},
   "outputs": [],
   "source": [
    "from sklearn.linear_model import LogisticRegression\n",
    "from sklearn.ensemble import RandomForestClassifier\n",
    "from sklearn.tree import DecisionTreeClassifier\n",
    "from sklearn.svm import SVC\n"
   ]
  },
  {
   "cell_type": "markdown",
   "metadata": {},
   "source": [
    "#### Conjunto de modelos \n",
    "\n",
    "Compararemos los modelos basados en los conjuntos de modelos."
   ]
  },
  {
   "cell_type": "code",
   "execution_count": 35,
   "metadata": {},
   "outputs": [],
   "source": [
    "comparacion_distintos_modelos = {\n",
    "    \"Random Forest\":RandomForestClassifier(random_state=0,n_estimators=10),\n",
    "    \"Regresion_logistica\":LogisticRegression(random_state=0),\n",
    "    \"Arbol de decision\":DecisionTreeClassifier(random_state=0),\n",
    "    #\"SVM\":SVC(random_state=0,probability=True) \n",
    "}\n"
   ]
  },
  {
   "cell_type": "markdown",
   "metadata": {},
   "source": [
    "#### Función de entrenamiento de modelo"
   ]
  },
  {
   "cell_type": "code",
   "execution_count": 36,
   "metadata": {},
   "outputs": [],
   "source": [
    "def modelo_entrenamiento(model_dict,X_train,y_train):\n",
    "    for model in model_dict:\n",
    "        print(\"Entrenamiento:\",model)\n",
    "        model_dict[model].fit(X_train,y_train)\n",
    "    return model_dict"
   ]
  },
  {
   "cell_type": "markdown",
   "metadata": {},
   "source": [
    "#### Función de evaluación de modelo"
   ]
  },
  {
   "cell_type": "code",
   "execution_count": 37,
   "metadata": {},
   "outputs": [],
   "source": [
    "from sklearn import metrics\n",
    "def modelo_evaluacion(clf_name,clf,X_test,y_test):\n",
    "    print(\"Evaluando:\",clf_name)\n",
    "    y_pred = clf.predict(X_test)\n",
    "    y_score = clf.predict_proba(X_test)[:,1]\n",
    "    confusion_matrix = pd.crosstab(y_test, y_pred, rownames=['True'], colnames= ['Predicted'], margins=False)\n",
    "    report = pd.Series({\n",
    "        \"modelo\":clf_name,\n",
    "        \"precision\":metrics.precision_score(y_test, y_pred),\n",
    "        \"exactitud\":metrics.recall_score(y_test, y_pred),\n",
    "        \"f1\":metrics.f1_score(y_test, y_pred),\n",
    "        'roc_auc' : metrics.roc_auc_score(y_test, y_score)\n",
    "    })\n",
    "    # Dibujando ROC \n",
    "    fpr, tpr, thresholds = metrics.roc_curve(y_test, y_score, drop_intermediate = False, pos_label = 1)\n",
    "    plt.figure(1, figsize=(6,6))\n",
    "    plt.xlabel('Tasa de falso positivo')\n",
    "    plt.ylabel('Tasa de verdadero positivo')\n",
    "    plt.plot(fpr, tpr,label=clf_name)\n",
    "    plt.plot([0,1],[0,1], color = 'black')\n",
    "    plt.legend()\n",
    "    return report,confusion_matrix\n"
   ]
  },
  {
   "cell_type": "code",
   "execution_count": 44,
   "metadata": {},
   "outputs": [],
   "source": [
    "def modelo_eval_entrenamiento(model_dict,X_train,y_train,X_test,y_test):\n",
    "    cols = ['modelo', 'roc_auc', 'precision', 'exactitud','f1']\n",
    "    modelo_reporte = pd.DataFrame(columns = cols)\n",
    "    cm_dict = {}\n",
    "    model_dict = modelo_entrenamiento(model_dict,X_train,y_train)\n",
    "    for model in model_dict:\n",
    "        report,confusion_matrix = modelo_evaluacion(model,model_dict[model],X_test,y_test)\n",
    "        modelo_reporte = modelo_reporte.append(report,ignore_index=True)\n",
    "        cm_dict[model] = confusion_matrix\n",
    "    return modelo_reporte,cm_dict\n"
   ]
  },
  {
   "cell_type": "markdown",
   "metadata": {},
   "source": [
    "#### Función de visualización"
   ]
  },
  {
   "cell_type": "code",
   "execution_count": 45,
   "metadata": {},
   "outputs": [],
   "source": [
    "def dibujo_func(df,col_name):\n",
    "    df.set_index(\"modelo\").loc[:,col_name].plot(kind='bar', stacked=True, sort_columns=True, figsize = (16,10))\n",
    "    plt.title(col_name)\n",
    "    plt.show()"
   ]
  },
  {
   "cell_type": "markdown",
   "metadata": {},
   "source": [
    "En nuestros datos, aproximadamente el 84% (1- sum(y_train)/len(y_train) = 0.8422603414724436) de los solicitantes pagarán el préstamo a tiempo. Lo que significa que, incluso si aprobamos toda la solicitudes de los que piden préstamis, el 84% se pagará a tiempo. Sin embargo, los préstamos incobrables pueden ser más perjudiciales para la institución financiera. En esta situación, Falso negativo significa no identificar un préstamo incobrable. Entonces, deberíamos tratar de mejorar la exactitud para encontrar más préstamos incobrables."
   ]
  },
  {
   "cell_type": "code",
   "execution_count": 46,
   "metadata": {},
   "outputs": [
    {
     "name": "stdout",
     "output_type": "stream",
     "text": [
      "Entrenamiento: Random Forest\n",
      "Entrenamiento: Regresion_logistica\n",
      "Entrenamiento: Arbol de decision\n",
      "Evaluando: Random Forest\n",
      "Evaluando: Regresion_logistica\n",
      "Evaluando: Arbol de decision\n"
     ]
    },
    {
     "data": {
      "image/png": "[encoded data removed]",
      "text/plain": [
       "<matplotlib.figure.Figure at 0x7fee332e8c50>"
      ]
     },
     "metadata": {},
     "output_type": "display_data"
    }
   ],
   "source": [
    "modelo_reporte,cm_dict = modelo_eval_entrenamiento(comparacion_distintos_modelos,X_train,y_train,X_test,y_test)\n",
    "\n"
   ]
  },
  {
   "cell_type": "code",
   "execution_count": 47,
   "metadata": {},
   "outputs": [
    {
     "data": {
      "text/plain": [
       "{'Arbol de decision': Predicted      0      1\n",
       " True                   \n",
       " 0          59975  11981\n",
       " 1          10528   3188, 'Random Forest': Predicted      0     1\n",
       " True                  \n",
       " 0          70902  1054\n",
       " 1          13220   496, 'Regresion_logistica': Predicted      0   1\n",
       " True                \n",
       " 0          71940  16\n",
       " 1          13693  23}"
      ]
     },
     "execution_count": 47,
     "metadata": {},
     "output_type": "execute_result"
    }
   ],
   "source": [
    "cm_dict"
   ]
  },
  {
   "cell_type": "markdown",
   "metadata": {},
   "source": [
    "#### Corriendo modelos con datos balanceados\n",
    "\n",
    "Esta parte de código está basado en el trabajo de  Liwei Zhu,Wenye Ouyang,Xiaochi Li.\n",
    "\n",
    "Ellos utilizan conda install -c glemaitre imbalanced-learn y la técnica [SMOTE-Oversampling and undersampling in data analysis](https://en.wikipedia.org/wiki/Oversampling_and_undersampling_in_data_analysis)( Synthetic Minority Over-sampling Technique)."
   ]
  },
  {
   "cell_type": "code",
   "execution_count": 49,
   "metadata": {},
   "outputs": [],
   "source": [
    "from imblearn.over_sampling import SMOTE\n",
    "index_split = int(len(X)*0.7) #30% prueba\n",
    "\n",
    "X_train_bal, y_train_bal = SMOTE(random_state=0).fit_sample(X_train,y_train)\n",
    "X_test_bal, y_test_bal = X_test, y_test"
   ]
  },
  {
   "cell_type": "code",
   "execution_count": 50,
   "metadata": {},
   "outputs": [
    {
     "data": {
      "text/plain": [
       "336734"
      ]
     },
     "execution_count": 50,
     "metadata": {},
     "output_type": "execute_result"
    }
   ],
   "source": [
    "len(X_train_bal)"
   ]
  },
  {
   "cell_type": "code",
   "execution_count": 51,
   "metadata": {},
   "outputs": [
    {
     "data": {
      "text/plain": [
       "199899"
      ]
     },
     "execution_count": 51,
     "metadata": {},
     "output_type": "execute_result"
    }
   ],
   "source": [
    "len(X_train)"
   ]
  },
  {
   "cell_type": "code",
   "execution_count": 52,
   "metadata": {},
   "outputs": [
    {
     "data": {
      "text/plain": [
       "0.5"
      ]
     },
     "execution_count": 52,
     "metadata": {},
     "output_type": "execute_result"
    }
   ],
   "source": [
    "sum(y_train_bal)/len(y_train_bal)"
   ]
  },
  {
   "cell_type": "markdown",
   "metadata": {},
   "source": [
    "Antes de equilibrar los datos, solo el 15% son préstamos incobrables. Lo cual dañará el rendimiento del modelo. Después de equilibrar los datos con SMOTE, el 50% son malos préstamos."
   ]
  },
  {
   "cell_type": "code",
   "execution_count": 53,
   "metadata": {},
   "outputs": [
    {
     "data": {
      "text/plain": [
       "0.15773965852755642"
      ]
     },
     "execution_count": 53,
     "metadata": {},
     "output_type": "execute_result"
    }
   ],
   "source": [
    "sum(y_train)/len(y_train)"
   ]
  },
  {
   "cell_type": "code",
   "execution_count": 54,
   "metadata": {},
   "outputs": [
    {
     "data": {
      "text/plain": [
       "0.5"
      ]
     },
     "execution_count": 54,
     "metadata": {},
     "output_type": "execute_result"
    }
   ],
   "source": [
    "sum(y_train_bal)/len(y_train_bal)"
   ]
  },
  {
   "cell_type": "code",
   "execution_count": 55,
   "metadata": {},
   "outputs": [
    {
     "name": "stdout",
     "output_type": "stream",
     "text": [
      "Entrenamiento: Random Forest\n",
      "Entrenamiento: Regresion_logistica\n",
      "Entrenamiento: Arbol de decision\n",
      "Evaluando: Random Forest\n",
      "Evaluando: Regresion_logistica\n",
      "Evaluando: Arbol de decision\n"
     ]
    },
    {
     "data": {
      "image/png": "[encoded data removed]",
      "text/plain": [
       "<matplotlib.figure.Figure at 0x7fee332867f0>"
      ]
     },
     "metadata": {},
     "output_type": "display_data"
    }
   ],
   "source": [
    "modelo_reporte_bal,cm_dict_bal = modelo_eval_entrenamiento(comparacion_distintos_modelos,\n",
    "                                                           X_train_bal,y_train_bal,X_test_bal,y_test_bal)"
   ]
  },
  {
   "cell_type": "code",
   "execution_count": 56,
   "metadata": {},
   "outputs": [
    {
     "data": {
      "text/plain": [
       "{'Arbol de decision': Predicted      0      1\n",
       " True                   \n",
       " 0          57748  14208\n",
       " 1          10165   3551, 'Random Forest': Predicted      0     1\n",
       " True                  \n",
       " 0          64855  7101\n",
       " 1          11160  2556, 'Regresion_logistica': Predicted      0      1\n",
       " True                   \n",
       " 0          43863  28093\n",
       " 1           4847   8869}"
      ]
     },
     "execution_count": 56,
     "metadata": {},
     "output_type": "execute_result"
    }
   ],
   "source": [
    "cm_dict_bal"
   ]
  },
  {
   "cell_type": "markdown",
   "metadata": {},
   "source": [
    "### Comparando conjuntos de modelos utilizando datos equilibrados  y desequilibrados"
   ]
  },
  {
   "cell_type": "code",
   "execution_count": 58,
   "metadata": {},
   "outputs": [
    {
     "data": {
      "text/html": [
       "<div>\n",
       "<style scoped>\n",
       "    .dataframe tbody tr th:only-of-type {\n",
       "        vertical-align: middle;\n",
       "    }\n",
       "\n",
       "    .dataframe tbody tr th {\n",
       "        vertical-align: top;\n",
       "    }\n",
       "\n",
       "    .dataframe thead th {\n",
       "        text-align: right;\n",
       "    }\n",
       "</style>\n",
       "<table border=\"1\" class=\"dataframe\">\n",
       "  <thead>\n",
       "    <tr style=\"text-align: right;\">\n",
       "      <th></th>\n",
       "      <th>modelo</th>\n",
       "      <th>roc_auc</th>\n",
       "      <th>precision</th>\n",
       "      <th>exactitud</th>\n",
       "      <th>f1</th>\n",
       "    </tr>\n",
       "  </thead>\n",
       "  <tbody>\n",
       "    <tr>\n",
       "      <th>0</th>\n",
       "      <td>Random Forest</td>\n",
       "      <td>0.606063</td>\n",
       "      <td>0.320000</td>\n",
       "      <td>0.036162</td>\n",
       "      <td>0.064981</td>\n",
       "    </tr>\n",
       "    <tr>\n",
       "      <th>1</th>\n",
       "      <td>Regresion_logistica</td>\n",
       "      <td>0.677632</td>\n",
       "      <td>0.589744</td>\n",
       "      <td>0.001677</td>\n",
       "      <td>0.003344</td>\n",
       "    </tr>\n",
       "    <tr>\n",
       "      <th>2</th>\n",
       "      <td>Arbol de decision</td>\n",
       "      <td>0.532962</td>\n",
       "      <td>0.210165</td>\n",
       "      <td>0.232429</td>\n",
       "      <td>0.220737</td>\n",
       "    </tr>\n",
       "  </tbody>\n",
       "</table>\n",
       "</div>"
      ],
      "text/plain": [
       "                modelo   roc_auc  precision  exactitud        f1\n",
       "0        Random Forest  0.606063   0.320000   0.036162  0.064981\n",
       "1  Regresion_logistica  0.677632   0.589744   0.001677  0.003344\n",
       "2    Arbol de decision  0.532962   0.210165   0.232429  0.220737"
      ]
     },
     "execution_count": 58,
     "metadata": {},
     "output_type": "execute_result"
    }
   ],
   "source": [
    "modelo_reporte"
   ]
  },
  {
   "cell_type": "code",
   "execution_count": 60,
   "metadata": {},
   "outputs": [
    {
     "data": {
      "text/html": [
       "<div>\n",
       "<style scoped>\n",
       "    .dataframe tbody tr th:only-of-type {\n",
       "        vertical-align: middle;\n",
       "    }\n",
       "\n",
       "    .dataframe tbody tr th {\n",
       "        vertical-align: top;\n",
       "    }\n",
       "\n",
       "    .dataframe thead th {\n",
       "        text-align: right;\n",
       "    }\n",
       "</style>\n",
       "<table border=\"1\" class=\"dataframe\">\n",
       "  <thead>\n",
       "    <tr style=\"text-align: right;\">\n",
       "      <th></th>\n",
       "      <th>modelo</th>\n",
       "      <th>roc_auc</th>\n",
       "      <th>precision</th>\n",
       "      <th>exactitud</th>\n",
       "      <th>f1</th>\n",
       "    </tr>\n",
       "  </thead>\n",
       "  <tbody>\n",
       "    <tr>\n",
       "      <th>0</th>\n",
       "      <td>Random Forest</td>\n",
       "      <td>0.613564</td>\n",
       "      <td>0.264678</td>\n",
       "      <td>0.186352</td>\n",
       "      <td>0.218714</td>\n",
       "    </tr>\n",
       "    <tr>\n",
       "      <th>1</th>\n",
       "      <td>Regresion_logistica</td>\n",
       "      <td>0.677789</td>\n",
       "      <td>0.239949</td>\n",
       "      <td>0.646617</td>\n",
       "      <td>0.350014</td>\n",
       "    </tr>\n",
       "    <tr>\n",
       "      <th>2</th>\n",
       "      <td>Arbol de decision</td>\n",
       "      <td>0.530720</td>\n",
       "      <td>0.199955</td>\n",
       "      <td>0.258895</td>\n",
       "      <td>0.225639</td>\n",
       "    </tr>\n",
       "  </tbody>\n",
       "</table>\n",
       "</div>"
      ],
      "text/plain": [
       "                modelo   roc_auc  precision  exactitud        f1\n",
       "0        Random Forest  0.613564   0.264678   0.186352  0.218714\n",
       "1  Regresion_logistica  0.677789   0.239949   0.646617  0.350014\n",
       "2    Arbol de decision  0.530720   0.199955   0.258895  0.225639"
      ]
     },
     "execution_count": 60,
     "metadata": {},
     "output_type": "execute_result"
    }
   ],
   "source": [
    "modelo_reporte_bal"
   ]
  },
  {
   "cell_type": "markdown",
   "metadata": {},
   "source": [
    "### Conclusiones \n",
    "\n",
    "En este cuaderno inicial, parte del proyecto de \tanálisis del conjunto de datos de Lending Club se centró en la construcción de diferentes modelos de aprendizaje automático y en la evaluación del rendimiento de bosques aleatorios, árboles de decisiones y la regresión logística con datos de entrenamiento de distintas variables del conjunto de datos.\n",
    " \n",
    "Descubrimos que si sobremuestramos una determinada clase mediante la técnica de SMOTE en el conjunto de entrenamiento, la puntuación de recuperación mejora para cada modelo, especialmente en la regresión logística. El puntaje de recuperación indica que la regresión logística puede clasificar al 65% de los solicitantes que incumplirán los pagos.\n",
    "Además del alto puntaje de recuperación después de usar datos balanceados, muestra que la regresión logística tiene otros beneficios, que para determinadas variables, los bosques aleatorios presentan una mejor alternativa como indica el artículo de  M. Malekipirbazari y V. Aksakalli, \"Risk assessment in social lending via random forests\"."
   ]
  },
  {
   "cell_type": "code",
   "execution_count": null,
   "metadata": {},
   "outputs": [],
   "source": []
  }
 ],
 "metadata": {
  "kernelspec": {
   "display_name": "Python 3",
   "language": "python",
   "name": "python3"
  },
  "language_info": {
   "codemirror_mode": {
    "name": "ipython",
    "version": 3
   },
   "file_extension": ".py",
   "mimetype": "text/x-python",
   "name": "python",
   "nbconvert_exporter": "python",
   "pygments_lexer": "ipython3",
   "version": "3.6.4"
  }
 },
 "nbformat": 4,
 "nbformat_minor": 2
}
